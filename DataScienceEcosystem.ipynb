{
 "cells": [
  {
   "cell_type": "markdown",
   "id": "fd7117d4",
   "metadata": {},
   "source": [
    "# Data Science Tools and Ecosystem"
   ]
  },
  {
   "cell_type": "markdown",
   "id": "a1bd807e",
   "metadata": {},
   "source": [
    "In this notebook, Data Science Tools and Ecosystem are summarized."
   ]
  },
  {
   "cell_type": "markdown",
   "id": "506981cf",
   "metadata": {},
   "source": [
    "**Objectives**\n",
    "* List popular languages for Data Science\n",
    "* Creation of sorted and unsorted list on Jupyter Notebook\n",
    "* Creation of tables on Jupiter Notebook\n",
    "* Use of simple aritmetical code in Python \n",
    "* Creation of titles in Jupiter Notebook\n",
    "* Review of the most common libraries used in Data Science"
   ]
  },
  {
   "cell_type": "markdown",
   "id": "8e1143cf",
   "metadata": {},
   "source": [
    "Some of the commonly used libraries used by Data Scientists include:\n",
    "1. Panda\n",
    "2. Numpy\n",
    "3. ggplot\n",
    "4. Scikit learn"
   ]
  },
  {
   "cell_type": "markdown",
   "id": "d0f3a036",
   "metadata": {},
   "source": [
    "Most Popular languages for Data Science are:\n",
    "1. Pyton\n",
    "2. R\n",
    "3. Java\n",
    "4. Julia"
   ]
  },
  {
   "cell_type": "markdown",
   "id": "a6eded3e",
   "metadata": {},
   "source": [
    "|Data Science Tools|\n",
    "|------------------|\n",
    "|SQL|\n",
    "|Postgre SQL|\n",
    "|Mongo|\n",
    "|Apache Airflow|\n",
    "|Jupiter IDE|"
   ]
  },
  {
   "cell_type": "markdown",
   "id": "07e36b6a",
   "metadata": {},
   "source": [
    "### Below are a few examples of evaluating arithmetic expressions in Python.\n",
    "4+8\n"
   ]
  },
  {
   "cell_type": "code",
   "execution_count": 9,
   "id": "9470267a",
   "metadata": {},
   "outputs": [
    {
     "data": {
      "text/plain": [
       "17"
      ]
     },
     "execution_count": 9,
     "metadata": {},
     "output_type": "execute_result"
    }
   ],
   "source": [
    "#This a simple arithmetic expression to mutiply then add integers\n",
    "(3*4)+5\n"
   ]
  },
  {
   "cell_type": "code",
   "execution_count": 10,
   "id": "84ce266a",
   "metadata": {},
   "outputs": [
    {
     "name": "stdout",
     "output_type": "stream",
     "text": [
      "3.33\n"
     ]
    }
   ],
   "source": [
    "#his will convert 200 minutes to hours by diving by 60\n",
    "minute=200\n",
    "hour=200/60\n",
    "print(round(hour,2))"
   ]
  },
  {
   "cell_type": "markdown",
   "id": "32de1660",
   "metadata": {},
   "source": [
    "## Author\n",
    "Jose Luis Castañeda Cortés"
   ]
  },
  {
   "cell_type": "code",
   "execution_count": null,
   "id": "d394e5cc",
   "metadata": {},
   "outputs": [],
   "source": []
  },
  {
   "cell_type": "code",
   "execution_count": null,
   "id": "8b16fa5e",
   "metadata": {},
   "outputs": [],
   "source": []
  },
  {
   "cell_type": "code",
   "execution_count": null,
   "id": "8845ccb0",
   "metadata": {},
   "outputs": [],
   "source": []
  },
  {
   "cell_type": "code",
   "execution_count": null,
   "id": "2b0d70a7",
   "metadata": {},
   "outputs": [],
   "source": []
  }
 ],
 "metadata": {
  "kernelspec": {
   "display_name": "Python 3",
   "language": "python",
   "name": "python3"
  },
  "language_info": {
   "codemirror_mode": {
    "name": "ipython",
    "version": 3
   },
   "file_extension": ".py",
   "mimetype": "text/x-python",
   "name": "python",
   "nbconvert_exporter": "python",
   "pygments_lexer": "ipython3",
   "version": "3.8.8"
  }
 },
 "nbformat": 4,
 "nbformat_minor": 5
}
